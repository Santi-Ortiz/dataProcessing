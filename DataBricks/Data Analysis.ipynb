{
 "cells": [
  {
   "cell_type": "markdown",
   "metadata": {
    "application/vnd.databricks.v1+cell": {
     "cellMetadata": {},
     "inputWidgets": {},
     "nuid": "c9c86874-8248-4103-b0d0-1f5e878ee984",
     "showTitle": false,
     "title": ""
    }
   },
   "source": [
    "<p> PONTIFICIA UNIVERSIDAD JAVERIANA </p>\n",
    "<p> Autor: Santiago Ortiz </p> \n",
    "<p> Fecha: 29 de Julio 2024 </p>\n",
    "<p> Tema: Procesamiento de datos 2430 </p>"
   ]
  },
  {
   "cell_type": "code",
   "execution_count": 0,
   "metadata": {
    "application/vnd.databricks.v1+cell": {
     "cellMetadata": {
      "byteLimit": 2048000,
      "rowLimit": 10000
     },
     "inputWidgets": {},
     "nuid": "30e6e6f4-679a-44a7-b86e-49901ff7a8c1",
     "showTitle": false,
     "title": ""
    }
   },
   "outputs": [],
   "source": [
    "## Importar bibliotecas\n",
    "import pyspark\n",
    "from pyspark import SparkFiles\n",
    "from pyspark.context import SparkContext\n",
    "from pyspark.sql.session import SparkSession\n",
    "from pyspark.sql.functions import col\n",
    "from pyspark.sql.types import IntegerType, FloatType, DoubleType, StringType\n",
    "\n",
    "from pyspark.sql.functions import mean, col, split, when, isnan, count, udf"
   ]
  },
  {
   "cell_type": "code",
   "execution_count": 0,
   "metadata": {
    "application/vnd.databricks.v1+cell": {
     "cellMetadata": {
      "byteLimit": 2048000,
      "rowLimit": 10000
     },
     "inputWidgets": {},
     "nuid": "79cccc3a-99ec-4466-b6e5-9a46e65a8e0f",
     "showTitle": false,
     "title": ""
    }
   },
   "outputs": [
    {
     "output_type": "stream",
     "name": "stdout",
     "output_type": "stream",
     "text": [
      "+-----+------+----+------------+-------------+------------+-------------+--------------+-----------------+----+---------------+------+\n|   id|gender| age|hypertension|heart_disease|ever_married|    work_type|Residence_type|avg_glucose_level| bmi| smoking_status|stroke|\n+-----+------+----+------------+-------------+------------+-------------+--------------+-----------------+----+---------------+------+\n| 9046|  Male|67.0|           0|            1|         Yes|      Private|         Urban|           228.69|36.6|formerly smoked|     1|\n|51676|Female|61.0|           0|            0|         Yes|Self-employed|         Rural|           202.21| N/A|   never smoked|     1|\n|31112|  Male|80.0|           0|            1|         Yes|      Private|         Rural|           105.92|32.5|   never smoked|     1|\n|60182|Female|49.0|           0|            0|         Yes|      Private|         Urban|           171.23|34.4|         smokes|     1|\n| 1665|Female|79.0|           1|            0|         Yes|Self-employed|         Rural|           174.12|  24|   never smoked|     1|\n|56669|  Male|81.0|           0|            0|         Yes|      Private|         Urban|           186.21|  29|formerly smoked|     1|\n|53882|  Male|74.0|           1|            1|         Yes|      Private|         Rural|            70.09|27.4|   never smoked|     1|\n|10434|Female|69.0|           0|            0|          No|      Private|         Urban|            94.39|22.8|   never smoked|     1|\n|27419|Female|59.0|           0|            0|         Yes|      Private|         Rural|            76.15| N/A|        Unknown|     1|\n|60491|Female|78.0|           0|            0|         Yes|      Private|         Urban|            58.57|24.2|        Unknown|     1|\n|12109|Female|81.0|           1|            0|         Yes|      Private|         Rural|            80.43|29.7|   never smoked|     1|\n|12095|Female|61.0|           0|            1|         Yes|     Govt_job|         Rural|           120.46|36.8|         smokes|     1|\n|12175|Female|54.0|           0|            0|         Yes|      Private|         Urban|           104.51|27.3|         smokes|     1|\n| 8213|  Male|78.0|           0|            1|         Yes|      Private|         Urban|           219.84| N/A|        Unknown|     1|\n| 5317|Female|79.0|           0|            1|         Yes|      Private|         Urban|           214.09|28.2|   never smoked|     1|\n|58202|Female|50.0|           1|            0|         Yes|Self-employed|         Rural|           167.41|30.9|   never smoked|     1|\n|56112|  Male|64.0|           0|            1|         Yes|      Private|         Urban|           191.61|37.5|         smokes|     1|\n|34120|  Male|75.0|           1|            0|         Yes|      Private|         Urban|           221.29|25.8|         smokes|     1|\n|27458|Female|60.0|           0|            0|          No|      Private|         Urban|            89.22|37.8|   never smoked|     1|\n|25226|  Male|57.0|           0|            1|          No|     Govt_job|         Urban|           217.08| N/A|        Unknown|     1|\n+-----+------+----+------------+-------------+------------+-------------+--------------+-----------------+----+---------------+------+\nonly showing top 20 rows\n\n"
     ]
    }
   ],
   "source": [
    "## Se carga la URL de los datos\n",
    "urlStroke = \"https://raw.githubusercontent.com/corredor-john/ExploratoryDataAnalisys/main/Varios/stroke_pyspark.csv\"\n",
    "sc.addFile(urlStroke)\n",
    "## Se crea el objeto spark\n",
    "path = SparkFiles.get(\"stroke_pyspark.csv\")\n",
    "dfStroke = spark.read.csv(\"file://\"+ path, inferSchema = True, header = True, sep = \",\")\n",
    "\n",
    "dfStroke.show()"
   ]
  },
  {
   "cell_type": "code",
   "execution_count": 0,
   "metadata": {
    "application/vnd.databricks.v1+cell": {
     "cellMetadata": {
      "byteLimit": 2048000,
      "rowLimit": 10000
     },
     "inputWidgets": {},
     "nuid": "dbc82af4-32ae-4d52-8091-56ab94cb977c",
     "showTitle": false,
     "title": ""
    }
   },
   "outputs": [
    {
     "output_type": "execute_result",
     "data": {
      "text/plain": [
       "['id',\n",
       " 'gender',\n",
       " 'age',\n",
       " 'hypertension',\n",
       " 'heart_disease',\n",
       " 'ever_married',\n",
       " 'work_type',\n",
       " 'Residence_type',\n",
       " 'avg_glucose_level',\n",
       " 'bmi',\n",
       " 'smoking_status',\n",
       " 'stroke']"
      ]
     },
     "execution_count": 3,
     "metadata": {},
     "output_type": "execute_result"
    }
   ],
   "source": [
    "## Inspección del dataset\n",
    "dfStroke.columns"
   ]
  },
  {
   "cell_type": "code",
   "execution_count": 0,
   "metadata": {
    "application/vnd.databricks.v1+cell": {
     "cellMetadata": {
      "byteLimit": 2048000,
      "rowLimit": 10000
     },
     "inputWidgets": {},
     "nuid": "eb9dd1fa-906f-434b-a903-23760c9d9d48",
     "showTitle": false,
     "title": ""
    }
   },
   "outputs": [
    {
     "output_type": "execute_result",
     "data": {
      "text/plain": [
       "['Id',\n",
       " 'Genero',\n",
       " 'Edad',\n",
       " 'Hipertension',\n",
       " 'Enfermedad_Corazon',\n",
       " 'Estado_civil',\n",
       " 'Tipo_Trabajo',\n",
       " 'Tipo_Residencia',\n",
       " 'Nivel_Glucosa',\n",
       " 'IMC',\n",
       " 'Fumador',\n",
       " 'P_Cardiaco']"
      ]
     },
     "execution_count": 11,
     "metadata": {},
     "output_type": "execute_result"
    }
   ],
   "source": [
    "## Se cambia los nombres de las columnas\n",
    "nuevosNombres = ['Id','Genero','Edad','Hipertension','Enfermedad_Corazon','Estado_civil','Tipo_Trabajo','Tipo_Residencia','Nivel_Glucosa','IMC', 'Fumador','P_Cardiaco']\n",
    "\n",
    "## Copia del original\n",
    "dfStroke01 = dfStroke\n",
    "for antes, nuevos in zip(dfStroke.columns, nuevosNombres):\n",
    "    dfStroke01 = dfStroke01.withColumnRenamed(antes, nuevos)\n",
    "\n",
    "## Revisión\n",
    "dfStroke01.columns"
   ]
  },
  {
   "cell_type": "code",
   "execution_count": 0,
   "metadata": {
    "application/vnd.databricks.v1+cell": {
     "cellMetadata": {
      "byteLimit": 2048000,
      "rowLimit": 10000
     },
     "inputWidgets": {},
     "nuid": "2462dcff-c08e-4673-8cea-5f98eb662b67",
     "showTitle": false,
     "title": ""
    }
   },
   "outputs": [
    {
     "output_type": "stream",
     "name": "stdout",
     "output_type": "stream",
     "text": [
      "root\n |-- Id: integer (nullable = true)\n |-- Genero: string (nullable = true)\n |-- Edad: double (nullable = true)\n |-- Hipertension: integer (nullable = true)\n |-- Enfermedad_Corazon: integer (nullable = true)\n |-- Estado_civil: string (nullable = true)\n |-- Tipo_Trabajo: string (nullable = true)\n |-- Tipo_Residencia: string (nullable = true)\n |-- Nivel_Glucosa: double (nullable = true)\n |-- IMC: double (nullable = true)\n |-- Fumador: string (nullable = true)\n |-- P_Cardiaco: integer (nullable = true)\n\n"
     ]
    }
   ],
   "source": [
    "## Se castea a double IMC\n",
    "dfStroke01 = dfStroke01.withColumn(\"IMC\", dfStroke01.IMC.cast(DoubleType()))\n",
    "dfStroke01.printSchema()"
   ]
  },
  {
   "cell_type": "code",
   "execution_count": 0,
   "metadata": {
    "application/vnd.databricks.v1+cell": {
     "cellMetadata": {
      "byteLimit": 2048000,
      "rowLimit": 10000
     },
     "inputWidgets": {},
     "nuid": "587f6b59-2659-419d-8157-9192098a52f9",
     "showTitle": false,
     "title": ""
    }
   },
   "outputs": [
    {
     "output_type": "stream",
     "name": "stdout",
     "output_type": "stream",
     "text": [
      "root\n |-- Id: integer (nullable = true)\n |-- Genero: string (nullable = true)\n |-- Edad: integer (nullable = true)\n |-- Hipertension: integer (nullable = true)\n |-- Enfermedad_Corazon: integer (nullable = true)\n |-- Estado_civil: string (nullable = true)\n |-- Tipo_Trabajo: string (nullable = true)\n |-- Tipo_Residencia: string (nullable = true)\n |-- Nivel_Glucosa: double (nullable = true)\n |-- IMC: double (nullable = true)\n |-- Fumador: string (nullable = true)\n |-- P_Cardiaco: integer (nullable = true)\n\n"
     ]
    }
   ],
   "source": [
    "## Se castea a integer Edad\n",
    "dfStroke01 = dfStroke01.withColumn(\"Edad\", dfStroke01.Edad.cast(IntegerType()))\n",
    "dfStroke01.printSchema()"
   ]
  },
  {
   "cell_type": "code",
   "execution_count": 0,
   "metadata": {
    "application/vnd.databricks.v1+cell": {
     "cellMetadata": {
      "byteLimit": 2048000,
      "rowLimit": 10000
     },
     "inputWidgets": {},
     "nuid": "a7ac7aa7-d193-43df-a02b-aae5e65ce742",
     "showTitle": false,
     "title": ""
    }
   },
   "outputs": [
    {
     "output_type": "stream",
     "name": "stdout",
     "output_type": "stream",
     "text": [
      "+---+------+---+------------+-------------+------------+---------+--------------+-----------------+---+--------------+----------+\n| id|gender|age|hypertension|heart_disease|ever_married|work_type|Residence_type|avg_glucose_level|bmi|smoking_status|P_Cardiaco|\n+---+------+---+------------+-------------+------------+---------+--------------+-----------------+---+--------------+----------+\n|  0|     0|  0|           0|            0|           0|        0|             0|                0|  0|             0|         0|\n+---+------+---+------------+-------------+------------+---------+--------------+-----------------+---+--------------+----------+\n\n"
     ]
    }
   ],
   "source": [
    "## Se hace una revisión sobre los datos que son NULOS\n",
    "dfStroke01.select([count(when(isnan(c) | col(c).isNull(), c)).alias(c) for c in dfStroke01.columns]).show()"
   ]
  },
  {
   "cell_type": "code",
   "execution_count": 0,
   "metadata": {
    "application/vnd.databricks.v1+cell": {
     "cellMetadata": {
      "byteLimit": 2048000,
      "rowLimit": 10000
     },
     "inputWidgets": {},
     "nuid": "5a1ebb4f-d3f0-481a-aa0d-376a5b7e02ee",
     "showTitle": false,
     "title": ""
    }
   },
   "outputs": [
    {
     "output_type": "stream",
     "name": "stdout",
     "output_type": "stream",
     "text": [
      "+------+-----+\n|Genero|count|\n+------+-----+\n|Female| 2994|\n| Other|    1|\n|  Male| 2115|\n+------+-----+\n\n+-------------+-----+\n| Tipo_Trabajo|count|\n+-------------+-----+\n| Never_worked|   22|\n|Self-employed|  819|\n|      Private| 2925|\n|     children|  687|\n|     Govt_job|  657|\n+-------------+-----+\n\n+---------------+-----+\n|Tipo_Residencia|count|\n+---------------+-----+\n|          Urban| 2596|\n|          Rural| 2514|\n+---------------+-----+\n\n+---------------+-----+\n|        Fumador|count|\n+---------------+-----+\n|         smokes|  789|\n|        Unknown| 1544|\n|   never smoked| 1892|\n|formerly smoked|  885|\n+---------------+-----+\n\n+------------+-----+\n|Estado_civil|count|\n+------------+-----+\n|          No| 1757|\n|         Yes| 3353|\n+------------+-----+\n\n"
     ]
    }
   ],
   "source": [
    "dfStroke01.groupBy(['Genero']).count().show()\n",
    "dfStroke01.groupBy(['Tipo_Trabajo']).count().show()\n",
    "dfStroke01.groupBy(['Tipo_Residencia']).count().show()\n",
    "dfStroke01.groupBy(['Fumador']).count().show()\n",
    "dfStroke01.groupBy(['Estado_civil']).count().show()"
   ]
  },
  {
   "cell_type": "markdown",
   "metadata": {
    "application/vnd.databricks.v1+cell": {
     "cellMetadata": {},
     "inputWidgets": {},
     "nuid": "fbc84cd7-6cae-4255-9b7e-6b7495805e2d",
     "showTitle": false,
     "title": ""
    }
   },
   "source": [
    "TRATAMIENTO DE COLUMNA GENDER"
   ]
  },
  {
   "cell_type": "code",
   "execution_count": 0,
   "metadata": {
    "application/vnd.databricks.v1+cell": {
     "cellMetadata": {
      "byteLimit": 2048000,
      "rowLimit": 10000
     },
     "inputWidgets": {},
     "nuid": "eca9d356-7531-4a13-b635-d5e11f50460a",
     "showTitle": false,
     "title": ""
    }
   },
   "outputs": [
    {
     "output_type": "stream",
     "name": "stdout",
     "output_type": "stream",
     "text": [
      "+------+-----+\n|Genero|count|\n+------+-----+\n|Female| 2994|\n|  Male| 2115|\n+------+-----+\n\n"
     ]
    }
   ],
   "source": [
    "## Se elimina eñ dato \"OTHER\" en Genero\n",
    "dfStroke02 = dfStroke01.where(\"Genero <> 'Other'\")\n",
    "\n",
    "dfStroke02.groupBy(['Genero']).count().show()"
   ]
  },
  {
   "cell_type": "code",
   "execution_count": 0,
   "metadata": {
    "application/vnd.databricks.v1+cell": {
     "cellMetadata": {
      "byteLimit": 2048000,
      "rowLimit": 10000
     },
     "inputWidgets": {},
     "nuid": "3d9ac9a2-bed8-4e9c-ae87-66bb39987a64",
     "showTitle": false,
     "title": ""
    }
   },
   "outputs": [
    {
     "output_type": "stream",
     "name": "stdout",
     "output_type": "stream",
     "text": [
      "+-------+-----------------+\n|summary|             Edad|\n+-------+-----------------+\n|  count|             5109|\n|   mean|43.21863378351928|\n| stddev|22.63479930976257|\n|    min|                0|\n|    max|               82|\n+-------+-----------------+\n\n"
     ]
    }
   ],
   "source": [
    "## Inspección visual estadística de EDAD\n",
    "dfStroke02.select(dfStroke02['Edad']).describe().show()"
   ]
  }
 ],
 "metadata": {
  "application/vnd.databricks.v1+notebook": {
   "dashboards": [],
   "environmentMetadata": null,
   "language": "python",
   "notebookMetadata": {
    "pythonIndentUnit": 4
   },
   "notebookName": "Data Analysis",
   "widgets": {}
  }
 },
 "nbformat": 4,
 "nbformat_minor": 0
}
