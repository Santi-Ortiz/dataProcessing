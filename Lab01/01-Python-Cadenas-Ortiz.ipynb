{
 "cells": [
  {
   "cell_type": "markdown",
   "id": "59fa603a-f8c4-487c-84cb-78653cabdb20",
   "metadata": {},
   "source": [
    "<h1> OPERACIONES CON CADENAS EN PYTHON </h1>\n"
   ]
  },
  {
   "cell_type": "markdown",
   "id": "bd368e13-707d-4480-9068-8f1d52e08a31",
   "metadata": {},
   "source": [
    " <h3>  <strong> Autor: </strong> Santiago Ortiz Alarcón </h3>\n"
   ]
  },
  {
   "cell_type": "markdown",
   "id": "6f1194fe-8397-402b-adb4-9f2c17773bc8",
   "metadata": {},
   "source": [
    "<h3> <strong> Descripción: </strong> Cuaderno #1 sobre operaciones con cadenas utilizando Python como lenguaje de programación. Se aprenderán conceptos como \n",
    "indexación, operaciones y secuencias de escape </h3>"
   ]
  },
  {
   "cell_type": "markdown",
   "id": "c5ce0490-7243-4b30-852b-8ccd58be4194",
   "metadata": {},
   "source": [
    "<h3> <strong> Curso: </strong> Procesamiento de Datos 2430 </h3>"
   ]
  },
  {
   "cell_type": "markdown",
   "id": "4bbfe8ec-3853-4972-af5c-eeafe8e98334",
   "metadata": {},
   "source": [
    "<h3> SOLUCIÓN EXÁMEN </h3>"
   ]
  },
  {
   "cell_type": "markdown",
   "id": "4e4442c7-0496-4f23-9984-4c8c435e8e41",
   "metadata": {},
   "source": [
    "<h3> 1. ¿Cual es el valor de la variable A después de ejecutar el siguiente código?\n",
    "\n",
    "</h3>"
   ]
  },
  {
   "cell_type": "code",
   "execution_count": 1,
   "id": "3715a0d5-52c1-4cd0-8409-272e09208f8b",
   "metadata": {},
   "outputs": [
    {
     "data": {
      "text/plain": [
       "'1'"
      ]
     },
     "execution_count": 1,
     "metadata": {},
     "output_type": "execute_result"
    }
   ],
   "source": [
    "A = \"1\"\n",
    "A"
   ]
  },
  {
   "cell_type": "markdown",
   "id": "6a876919-0822-4db9-9eb5-fd1d6d775471",
   "metadata": {},
   "source": [
    "<strong> Rta/. El valor de la variable A es una cadena que contiene el número 1 </strong>"
   ]
  },
  {
   "cell_type": "markdown",
   "id": "a162b4af-d87a-4cfb-b335-c76e81f516b9",
   "metadata": {},
   "source": [
    "<h3> 2. ¿Cual es el valor de la variable B después de ejecutar el siguiente código?\n",
    "\n",
    "</h3>"
   ]
  },
  {
   "cell_type": "code",
   "execution_count": 2,
   "id": "13fdbfbb-d799-4105-8e71-21fa51650814",
   "metadata": {},
   "outputs": [
    {
     "data": {
      "text/plain": [
       "'2'"
      ]
     },
     "execution_count": 2,
     "metadata": {},
     "output_type": "execute_result"
    }
   ],
   "source": [
    "B = \"2\"\n",
    "B"
   ]
  },
  {
   "cell_type": "markdown",
   "id": "ac0e9664-b5a1-4867-8664-a8b4721e9ca2",
   "metadata": {},
   "source": [
    "<strong> Rta/. El valor de la variable B es una cadena que contiene el número 2 </strong>"
   ]
  },
  {
   "cell_type": "markdown",
   "id": "9716171e-9230-4fda-bf9a-5269e45c9652",
   "metadata": {},
   "source": [
    "<h3> 3. ¿Cual es el valor de la variable C después de ejecutar el siguiente código?\n",
    "\n",
    "</h3>"
   ]
  },
  {
   "cell_type": "code",
   "execution_count": 3,
   "id": "2bcc2338-fa42-438a-9c20-9cfba6c56dba",
   "metadata": {},
   "outputs": [
    {
     "data": {
      "text/plain": [
       "'12'"
      ]
     },
     "execution_count": 3,
     "metadata": {},
     "output_type": "execute_result"
    }
   ],
   "source": [
    "C = A + B\n",
    "C"
   ]
  },
  {
   "cell_type": "markdown",
   "id": "ac2b2ac9-0289-431e-8c17-92e538a5dc13",
   "metadata": {},
   "source": [
    "<strong> Rta/. El valor de la variable C es una cadena que suma A y B, lo que da como resultado la cadena \"12\" </strong>"
   ]
  },
  {
   "cell_type": "markdown",
   "id": "57fe3795-7ddb-4cab-8613-555654297be7",
   "metadata": {},
   "source": [
    "<h3> 4. En la variable D haz uso del slicing para imprimir solo los primeros tres elementos:\n",
    "\n",
    "</h3>"
   ]
  },
  {
   "cell_type": "code",
   "execution_count": 4,
   "id": "231797ff-f6a1-4e97-9735-65215f8591a3",
   "metadata": {},
   "outputs": [
    {
     "name": "stdout",
     "output_type": "stream",
     "text": [
      "ABC\n"
     ]
    }
   ],
   "source": [
    "D = \"ABCDEFG\"\n",
    "print(D[0:3])"
   ]
  },
  {
   "cell_type": "markdown",
   "id": "2c937454-1efe-4d23-9f70-974f7afc76b3",
   "metadata": {},
   "source": [
    "<strong> Rta/. A través del slicing es permitido cortar una cadena para extraer un segmento de la misma. Se emplea D[0:3] para imprimir los primeros 3 elementos </strong>"
   ]
  },
  {
   "cell_type": "markdown",
   "id": "2a929d01-1113-4320-abc8-5a1c6272e1c5",
   "metadata": {},
   "source": [
    "<h3> 5. Usa un valor de stride de 2 para imprimir cada segundo elemento de la cadena E:\n",
    "\n",
    "</h3>"
   ]
  },
  {
   "cell_type": "code",
   "execution_count": 5,
   "id": "9d6df0e8-4873-435d-baaa-6254b9054d0f",
   "metadata": {},
   "outputs": [
    {
     "name": "stdout",
     "output_type": "stream",
     "text": [
      "correct\n"
     ]
    }
   ],
   "source": [
    "E = 'clocrkr1e1c1t'\n",
    "print(E[::2])"
   ]
  },
  {
   "cell_type": "markdown",
   "id": "65895b69-0d15-49d6-a3da-b6817ed94e66",
   "metadata": {},
   "source": [
    "<strong> Rta/. Utilizando la herramienta stride es posible extraer cada segundo elemento de la cadena, para este caso, se emplea E[::2] para este fin. </strong>"
   ]
  },
  {
   "cell_type": "markdown",
   "id": "84ca946b-9c90-477c-82c4-49453dcceeac",
   "metadata": {},
   "source": [
    "<h3> 6. Imprime una barra invertida: </h3>\n",
    "\n"
   ]
  },
  {
   "cell_type": "code",
   "execution_count": 6,
   "id": "63067905-7486-4396-ba6f-b6906c982ac7",
   "metadata": {},
   "outputs": [
    {
     "name": "stdout",
     "output_type": "stream",
     "text": [
      "\\\n"
     ]
    }
   ],
   "source": [
    "print(\"\\\\\")"
   ]
  },
  {
   "cell_type": "markdown",
   "id": "e3a8b555-093c-4f52-8d96-7f56f5f46fb0",
   "metadata": {},
   "source": [
    "<strong> Rta/. Se utiliza doble barra invertida para imprimir una única barra invertida según las normas de secuencia de escape. </strong>"
   ]
  },
  {
   "cell_type": "markdown",
   "id": "af73f0e0-e2ab-44c0-94da-8598fc3af6ad",
   "metadata": {},
   "source": [
    "<h3>7. Convierte en mayúsculas el contenido de la variable F:\n",
    "\n",
    "</h3>"
   ]
  },
  {
   "cell_type": "code",
   "execution_count": 7,
   "id": "cbe20c6a-f38b-47a1-ad0b-278e7dbfc616",
   "metadata": {},
   "outputs": [
    {
     "data": {
      "text/plain": [
       "'YOU ARE WRONG'"
      ]
     },
     "execution_count": 7,
     "metadata": {},
     "output_type": "execute_result"
    }
   ],
   "source": [
    "F = \"You are wrong\"\n",
    "F.upper()"
   ]
  },
  {
   "cell_type": "markdown",
   "id": "22c4a9d8-a26f-4d74-bb57-36b158e9ce9f",
   "metadata": {},
   "source": [
    "<strong> Rta/. Se utiliza el método upper para convertir toda la cadena en mayúsculas. </strong>"
   ]
  },
  {
   "cell_type": "markdown",
   "id": "1edcf7e3-f60b-43fa-9ca8-e1743b388890",
   "metadata": {},
   "source": [
    "<h3> 8. En la variable G, encuentra el primer índice de la sub-cadena snow:\n",
    "\n",
    "</h3>"
   ]
  },
  {
   "cell_type": "code",
   "execution_count": 8,
   "id": "40a5bb00-9681-468c-ae05-cf3bb752fc21",
   "metadata": {},
   "outputs": [
    {
     "data": {
      "text/plain": [
       "95"
      ]
     },
     "execution_count": 8,
     "metadata": {},
     "output_type": "execute_result"
    }
   ],
   "source": [
    "G = \"Mary had a little lamb Little lamb, little lamb Mary had a little lamb \\\n",
    "Its fleece was white as snow And everywhere that Mary went Mary went, Mary went \\\n",
    "Everywhere that Mary went The lamb was sure to go\"\n",
    "G.find(\"snow\")"
   ]
  },
  {
   "cell_type": "markdown",
   "id": "aa532687-4089-4c04-ac40-0a1c4e6a0347",
   "metadata": {},
   "source": [
    "<strong> Rta/. Se utiliza el método find para encontrar el primer índice de la subcadena snow. </strong>"
   ]
  },
  {
   "cell_type": "markdown",
   "id": "3a3b60ee-918f-401f-82da-b96250b6c34b",
   "metadata": {},
   "source": [
    "<h3>9. En la variable G, reemplaza la sub-cadena Mary con Bob:\n",
    "\n",
    "</h3>"
   ]
  },
  {
   "cell_type": "code",
   "execution_count": 9,
   "id": "c807f3ee-ae31-4c03-bac1-86f05761671b",
   "metadata": {},
   "outputs": [
    {
     "data": {
      "text/plain": [
       "'Bob had a little lamb Little lamb, little lamb Bob had a little lamb Its fleece was white as snow And everywhere that Bob went Bob went, Bob went Everywhere that Bob went The lamb was sure to go'"
      ]
     },
     "execution_count": 9,
     "metadata": {},
     "output_type": "execute_result"
    }
   ],
   "source": [
    "G.replace(\"Mary\", \"Bob\")"
   ]
  },
  {
   "cell_type": "markdown",
   "id": "86867a95-d376-4ebc-91e7-d0a8bcf7e8e0",
   "metadata": {},
   "source": [
    "<strong> Rta/. Se utiliza el método replace para reemplazar la subcadena Mary por Bob. </strong>"
   ]
  }
 ],
 "metadata": {
  "kernelspec": {
   "display_name": "Python 3 (ipykernel)",
   "language": "python",
   "name": "python3"
  },
  "language_info": {
   "codemirror_mode": {
    "name": "ipython",
    "version": 3
   },
   "file_extension": ".py",
   "mimetype": "text/x-python",
   "name": "python",
   "nbconvert_exporter": "python",
   "pygments_lexer": "ipython3",
   "version": "3.12.4"
  }
 },
 "nbformat": 4,
 "nbformat_minor": 5
}
