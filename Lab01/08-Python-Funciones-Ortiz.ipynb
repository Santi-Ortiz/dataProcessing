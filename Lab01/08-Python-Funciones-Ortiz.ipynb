{
 "cells": [
  {
   "cell_type": "markdown",
   "id": "397450bb-c046-40c1-aa07-13c73e7b13d3",
   "metadata": {},
   "source": [
    "<h1> FUNCIONES EN PYTHON </h1>\n"
   ]
  },
  {
   "cell_type": "markdown",
   "id": "8780b42b-a436-4a70-8e6a-45f964987303",
   "metadata": {},
   "source": [
    " <h3>  <strong> Autor: </strong> Santiago Ortiz Alarcón </h3>\n"
   ]
  },
  {
   "cell_type": "markdown",
   "id": "d45f453b-0e2d-4d1b-a982-4925502f760a",
   "metadata": {},
   "source": [
    "<h3> <strong> Descripción: </strong> Cuaderno #8 sobre el uso de funciones utilizando Python como lenguaje de programación. Se aprenderán conceptos como \n",
    "funciones, variables y cómo usar funciones. </h3>"
   ]
  },
  {
   "cell_type": "markdown",
   "id": "047861c5-3718-400a-9cea-79a42d2c9975",
   "metadata": {},
   "source": [
    "<h3> <strong> Curso: </strong> Procesamiento de Datos 2430 </h3>"
   ]
  },
  {
   "cell_type": "markdown",
   "id": "f8a20f1a-f7f2-4332-8af1-4cc5313b0817",
   "metadata": {},
   "source": [
    "<h2>SOLUCIÓN EXÁMEN</h2>"
   ]
  },
  {
   "cell_type": "markdown",
   "id": "b1272c0f-13d2-4a2f-a1c0-3f7fc03ee55e",
   "metadata": {},
   "source": [
    "<h3>1. Cree una función que divida la primera entrada por la segunda entrada:</h3>"
   ]
  },
  {
   "cell_type": "code",
   "execution_count": 10,
   "id": "78850a54-a50a-44ee-8246-2fa4290d2965",
   "metadata": {},
   "outputs": [],
   "source": [
    "def division(a,b):\n",
    "    if b != 0:\n",
    "        return(a/b)\n",
    "    else:\n",
    "        return(0)"
   ]
  },
  {
   "cell_type": "code",
   "execution_count": 11,
   "id": "7e5d8725-2fbf-4af3-a38f-92f2d4f1c075",
   "metadata": {},
   "outputs": [
    {
     "data": {
      "text/plain": [
       "0.6"
      ]
     },
     "execution_count": 11,
     "metadata": {},
     "output_type": "execute_result"
    }
   ],
   "source": [
    "division(3,5)"
   ]
  },
  {
   "cell_type": "markdown",
   "id": "16ee358f-6d93-4389-b669-f70eaa15c9e4",
   "metadata": {},
   "source": [
    "<strong> Rta/. Se crea una función que a partir de dos parametros a y b se divida uno entre otro. Se realiza la validación si b es menor que cero para evitar problemas matemáticos.</strong>"
   ]
  },
  {
   "cell_type": "markdown",
   "id": "bad0f39f-8c5b-404d-b8f6-d93015b8c940",
   "metadata": {},
   "source": [
    "<h3>Utilice la función <code> con </code> para la siguiente pregunta.</h3>"
   ]
  },
  {
   "cell_type": "code",
   "execution_count": 12,
   "id": "277ba926-f413-4262-b661-c5d818d0ac73",
   "metadata": {},
   "outputs": [],
   "source": [
    "def con(a, b):\n",
    "    return(a + b)"
   ]
  },
  {
   "cell_type": "markdown",
   "id": "355bd281-9056-4863-9d68-ef361736120d",
   "metadata": {},
   "source": [
    "<h3> 2. ¿Se puede usar la función <code> con </code> que definimos antes para agregar números enteros o cadenas? </h3>"
   ]
  },
  {
   "cell_type": "code",
   "execution_count": 13,
   "id": "b3f5ca45-c230-4b7b-be51-5e4e1c096720",
   "metadata": {},
   "outputs": [
    {
     "data": {
      "text/plain": [
       "'si, por ejemplo'"
      ]
     },
     "execution_count": 13,
     "metadata": {},
     "output_type": "execute_result"
    }
   ],
   "source": [
    "con(\"si, \",\"por ejemplo\")"
   ]
  },
  {
   "cell_type": "markdown",
   "id": "da40353b-96b4-473d-875f-ce0124ab1cdc",
   "metadata": {},
   "source": [
    "<strong> Rta/. Si es posible definir diferentes entradas dentro de los parámetros de la función, lo importante es que sean únicamente 2 elementos en total.</strong>"
   ]
  },
  {
   "cell_type": "markdown",
   "id": "c4a724ca-40ea-4bcb-be19-8b1d5566abd2",
   "metadata": {},
   "source": [
    "<h3>3. ¿Se puede usar la función <code> con </code> que definimos antes para concentrar una lista o tupla?</h3>"
   ]
  },
  {
   "cell_type": "code",
   "execution_count": 14,
   "id": "b9eea295-4394-4d9d-a5f0-0cc33d9448c4",
   "metadata": {},
   "outputs": [
    {
     "data": {
      "text/plain": [
       "['si', 'es', 'posible', 'concentrar', 'listas/', 'tuplas']"
      ]
     },
     "execution_count": 14,
     "metadata": {},
     "output_type": "execute_result"
    }
   ],
   "source": [
    "con([\"si\",\"es\",\"posible\"], [\"concentrar\" ,\"listas/\",\"tuplas\"])"
   ]
  },
  {
   "cell_type": "markdown",
   "id": "4a56bf28-ee8f-4300-97d3-efa1048ef3bc",
   "metadata": {},
   "source": [
    "<strong> Rta/. Si es posible concentrar lista o tupla, la única condición es que sean únicamente 2 elementos en su totalidad.</strong>"
   ]
  }
 ],
 "metadata": {
  "kernelspec": {
   "display_name": "Python 3 (ipykernel)",
   "language": "python",
   "name": "python3"
  },
  "language_info": {
   "codemirror_mode": {
    "name": "ipython",
    "version": 3
   },
   "file_extension": ".py",
   "mimetype": "text/x-python",
   "name": "python",
   "nbconvert_exporter": "python",
   "pygments_lexer": "ipython3",
   "version": "3.12.4"
  }
 },
 "nbformat": 4,
 "nbformat_minor": 5
}
