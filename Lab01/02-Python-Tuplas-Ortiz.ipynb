{
 "cells": [
  {
   "cell_type": "markdown",
   "id": "4cce50f8-7906-4d03-a7d9-2441db9a4736",
   "metadata": {},
   "source": [
    "<h1> TUPLAS EN PYTHON </h1>\n"
   ]
  },
  {
   "cell_type": "markdown",
   "id": "509603ad-4660-498c-b988-a8abdbfce4da",
   "metadata": {},
   "source": [
    " <h3>  <strong> Autor: </strong> Santiago Ortiz Alarcón </h3>\n"
   ]
  },
  {
   "cell_type": "markdown",
   "id": "1c69d9b8-61ac-4254-99d3-85ef6d8f65b0",
   "metadata": {},
   "source": [
    "<h3> <strong> Descripción: </strong> Cuaderno #2 sobre tuplas utilizando Python como lenguaje de programación. Se aprenderán conceptos como \n",
    "indexación, slicing y clasificación de las tuplas </h3>"
   ]
  },
  {
   "cell_type": "markdown",
   "id": "009b3c0c-9eea-4c54-b564-7f5a6f667e79",
   "metadata": {},
   "source": [
    "<h3> <strong> Curso: </strong> Procesamiento de Datos 2430 </h3>"
   ]
  },
  {
   "cell_type": "markdown",
   "id": "ea925f8c-6c25-4767-a5fd-abcd475b1b70",
   "metadata": {},
   "source": [
    "<h3> SOLUCIÓN EXÁMEN </h3>"
   ]
  },
  {
   "cell_type": "markdown",
   "id": "39f5b88f-705c-42bc-9e31-95e5c74b1bc8",
   "metadata": {},
   "source": [
    " <h3> Considérese la siguiente tupla:</h3>"
   ]
  },
  {
   "cell_type": "code",
   "execution_count": 2,
   "id": "68134b33-0a65-4b7e-97f5-c16c824396a5",
   "metadata": {},
   "outputs": [
    {
     "data": {
      "text/plain": [
       "('pop',\n",
       " 'rock',\n",
       " 'soul',\n",
       " 'hard rock',\n",
       " 'soft rock',\n",
       " 'R&B',\n",
       " 'progressive rock',\n",
       " 'disco')"
      ]
     },
     "execution_count": 2,
     "metadata": {},
     "output_type": "execute_result"
    }
   ],
   "source": [
    "genres_tuple = (\"pop\", \"rock\", \"soul\", \"hard rock\", \"soft rock\", \\\n",
    "                \"R&B\", \"progressive rock\", \"disco\") \n",
    "genres_tuple"
   ]
  },
  {
   "cell_type": "markdown",
   "id": "5e822481-a36b-4de6-be38-c16b9e2cef45",
   "metadata": {},
   "source": [
    "<h4> 1. Encontrar la longitud de la tupla, <code>genres_tuple</code>: </h4>"
   ]
  },
  {
   "cell_type": "code",
   "execution_count": 20,
   "id": "86274ca0-588f-4c44-84ec-8782bbae222b",
   "metadata": {},
   "outputs": [
    {
     "data": {
      "text/plain": [
       "8"
      ]
     },
     "execution_count": 20,
     "metadata": {},
     "output_type": "execute_result"
    }
   ],
   "source": [
    "len(genres_tuple)"
   ]
  },
  {
   "cell_type": "markdown",
   "id": "c5c793a2-57f9-4b6c-ac59-ea0573fb2f7d",
   "metadata": {},
   "source": [
    "<strong> Rta/. A partir del método \"len\" es posible conocer el tamaño de la tupla genres_tuple. </strong>"
   ]
  },
  {
   "cell_type": "markdown",
   "id": "8da44177-8032-4de2-90c9-dd9074b0a38d",
   "metadata": {},
   "source": [
    "<h3> 2. Accede al elemento en el índice 3: </h3>"
   ]
  },
  {
   "cell_type": "code",
   "execution_count": 21,
   "id": "fc5b7092-a9ea-4135-b21e-2b1c179123cb",
   "metadata": {},
   "outputs": [
    {
     "data": {
      "text/plain": [
       "'hard rock'"
      ]
     },
     "execution_count": 21,
     "metadata": {},
     "output_type": "execute_result"
    }
   ],
   "source": [
    "genres_tuple[3]"
   ]
  },
  {
   "cell_type": "markdown",
   "id": "b08226e5-740e-49fa-b591-cd47dabcf20b",
   "metadata": {},
   "source": [
    "<strong> Rta/. Con el acceso a través de posiciones se puede concer qué valor existe dentro de el índice número 3 de genres_tuple.</strong> "
   ]
  },
  {
   "cell_type": "markdown",
   "id": "7470d279-a278-46f6-95d4-28c5d343e0fa",
   "metadata": {},
   "source": [
    "<h3>3. Utiliza el slicing para obtener los índices 3, 4 y 5:</h3>"
   ]
  },
  {
   "cell_type": "code",
   "execution_count": 22,
   "id": "cc479e38-324a-4015-bece-4684099cb65d",
   "metadata": {},
   "outputs": [
    {
     "data": {
      "text/plain": [
       "('hard rock', 'soft rock', 'R&B')"
      ]
     },
     "execution_count": 22,
     "metadata": {},
     "output_type": "execute_result"
    }
   ],
   "source": [
    "genres_tuple[3:6]"
   ]
  },
  {
   "cell_type": "markdown",
   "id": "16333ae6-23cf-41c0-b6f3-4b5260219f1c",
   "metadata": {},
   "source": [
    "<strong> Rta/. Se coloca [3:6] ya que se comienza a contar desde la posición 0, lo que retorna el índice 3, 4 y 5.</strong>"
   ]
  },
  {
   "cell_type": "markdown",
   "id": "283e89bf-3a71-4940-8667-0f3d1a64c480",
   "metadata": {},
   "source": [
    "<h3>4. Encuentra los primeros dos elementos de la tupla <code>genres_tuple</code>:</h3>"
   ]
  },
  {
   "cell_type": "code",
   "execution_count": 23,
   "id": "4c85d1c7-a923-44bf-b1fa-2635e781eb6b",
   "metadata": {},
   "outputs": [
    {
     "data": {
      "text/plain": [
       "('pop', 'rock')"
      ]
     },
     "execution_count": 23,
     "metadata": {},
     "output_type": "execute_result"
    }
   ],
   "source": [
    "genres_tuple[0:2]"
   ]
  },
  {
   "cell_type": "markdown",
   "id": "4393cf2e-bdde-4773-953e-3c8f37af32a3",
   "metadata": {},
   "source": [
    "<strong> Rta/. Se coloca [0:2] ya que se comienza a contar desde la posición 0, lo que retorna los dos primeros elementos.</strong>"
   ]
  },
  {
   "cell_type": "markdown",
   "id": "cd08c9a6-a7c1-4aa6-aa40-3802d1933c5f",
   "metadata": {},
   "source": [
    "<h3>5. Encuentra el primer índice de <code>\"disco\"</code>: </h3>"
   ]
  },
  {
   "cell_type": "code",
   "execution_count": 24,
   "id": "0f473dbb-36c9-4390-a4a5-230fbe426900",
   "metadata": {},
   "outputs": [
    {
     "data": {
      "text/plain": [
       "7"
      ]
     },
     "execution_count": 24,
     "metadata": {},
     "output_type": "execute_result"
    }
   ],
   "source": [
    "genres_tuple.index(\"disco\")"
   ]
  },
  {
   "cell_type": "markdown",
   "id": "d18a3e0e-7ad3-4575-ab19-9db5a75085d5",
   "metadata": {},
   "source": [
    "<strong> Rta/. A partir del método \"index\" es posible conocer el primer índice donde se encuentra la cadena \"disco\". </strong>"
   ]
  },
  {
   "cell_type": "markdown",
   "id": "84a229ed-2735-4a6f-bb96-6818dfebc3d9",
   "metadata": {},
   "source": [
    "<h3>6. Genera una lista ordenada desde la tupla <code>C_tuple=(-5, 1, -3)</code>: </h3>"
   ]
  },
  {
   "cell_type": "code",
   "execution_count": 25,
   "id": "dfa1961c-3318-4b1b-bfab-233d11c36950",
   "metadata": {},
   "outputs": [
    {
     "data": {
      "text/plain": [
       "[-5, -3, 1]"
      ]
     },
     "execution_count": 25,
     "metadata": {},
     "output_type": "execute_result"
    }
   ],
   "source": [
    "C_tuple=(-5, 1, -3)\n",
    "C_sorted_tuple = sorted(C_tuple)\n",
    "C_sorted_tuple"
   ]
  },
  {
   "cell_type": "markdown",
   "id": "f79755e0-1326-4ac2-989e-c08d14eceb38",
   "metadata": {},
   "source": [
    "<strong> Rta/. A partir del método \"sorted\" es posible ordernar una lista ya existente de menor a mayor. En este caso se crea una nueva lista según lo requerido.</strong>"
   ]
  }
 ],
 "metadata": {
  "kernelspec": {
   "display_name": "Python 3 (ipykernel)",
   "language": "python",
   "name": "python3"
  },
  "language_info": {
   "codemirror_mode": {
    "name": "ipython",
    "version": 3
   },
   "file_extension": ".py",
   "mimetype": "text/x-python",
   "name": "python",
   "nbconvert_exporter": "python",
   "pygments_lexer": "ipython3",
   "version": "3.12.4"
  }
 },
 "nbformat": 4,
 "nbformat_minor": 5
}
