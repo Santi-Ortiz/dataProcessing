{
 "cells": [
  {
   "cell_type": "markdown",
   "id": "397450bb-c046-40c1-aa07-13c73e7b13d3",
   "metadata": {},
   "source": [
    "<h1> DICCIONARIOS EN PYTHON </h1>\n"
   ]
  },
  {
   "cell_type": "markdown",
   "id": "8780b42b-a436-4a70-8e6a-45f964987303",
   "metadata": {},
   "source": [
    " <h3>  <strong> Autor: </strong> Santiago Ortiz Alarcón </h3>\n"
   ]
  },
  {
   "cell_type": "markdown",
   "id": "d45f453b-0e2d-4d1b-a982-4925502f760a",
   "metadata": {},
   "source": [
    "<h3> <strong> Descripción: </strong> Cuaderno #5 sobre diccionarios utilizando Python como lenguaje de programación. Se aprenderán conceptos como \n",
    "las operaciones lógicas que puedes hacer con los diccionarios. </h3>"
   ]
  },
  {
   "cell_type": "markdown",
   "id": "047861c5-3718-400a-9cea-79a42d2c9975",
   "metadata": {},
   "source": [
    "<h3> <strong> Curso: </strong> Procesamiento de Datos 2430 </h3>"
   ]
  },
  {
   "cell_type": "markdown",
   "id": "f8a20f1a-f7f2-4332-8af1-4cc5313b0817",
   "metadata": {},
   "source": [
    "<h2>SOLUCIÓN EXÁMEN</h2>"
   ]
  },
  {
   "cell_type": "markdown",
   "id": "024edda6-0daa-49d5-8b15-07da6ae2ff8f",
   "metadata": {},
   "source": [
    "<h3>A partir del siguiente diccionario, responde las siguientes preguntas: </h3>"
   ]
  },
  {
   "cell_type": "code",
   "execution_count": 15,
   "id": "5461db57-f132-40a5-a95c-ac3470b08347",
   "metadata": {},
   "outputs": [
    {
     "data": {
      "text/plain": [
       "{'The Bodyguard': '1992', 'Saturday Night Fever': '1977'}"
      ]
     },
     "execution_count": 15,
     "metadata": {},
     "output_type": "execute_result"
    }
   ],
   "source": [
    "soundtrack_dic = {\"The Bodyguard\":\"1992\", \"Saturday Night Fever\":\"1977\"}\n",
    "soundtrack_dic"
   ]
  },
  {
   "cell_type": "markdown",
   "id": "b1272c0f-13d2-4a2f-a1c0-3f7fc03ee55e",
   "metadata": {},
   "source": [
    "<h3>1. En el diccionario <code>soundtrack_dic</code>. ¿Cuáles son las llaves?</h3>"
   ]
  },
  {
   "cell_type": "code",
   "execution_count": 16,
   "id": "78850a54-a50a-44ee-8246-2fa4290d2965",
   "metadata": {},
   "outputs": [
    {
     "data": {
      "text/plain": [
       "dict_keys(['The Bodyguard', 'Saturday Night Fever'])"
      ]
     },
     "execution_count": 16,
     "metadata": {},
     "output_type": "execute_result"
    }
   ],
   "source": [
    "soundtrack_dic.keys()"
   ]
  },
  {
   "cell_type": "markdown",
   "id": "16ee358f-6d93-4389-b669-f70eaa15c9e4",
   "metadata": {},
   "source": [
    "<strong> Rta/. A partir del método \"keys\" es posible conocer las llaves del diccionario en su totalidad.</strong>"
   ]
  },
  {
   "cell_type": "markdown",
   "id": "bad0f39f-8c5b-404d-b8f6-d93015b8c940",
   "metadata": {},
   "source": [
    "<h3>2. En el diccionario <code>soundtrack_dic</code>. ¿Cuáles son los valores?</h3>"
   ]
  },
  {
   "cell_type": "code",
   "execution_count": 17,
   "id": "277ba926-f413-4262-b661-c5d818d0ac73",
   "metadata": {},
   "outputs": [
    {
     "data": {
      "text/plain": [
       "dict_values(['1992', '1977'])"
      ]
     },
     "execution_count": 17,
     "metadata": {},
     "output_type": "execute_result"
    }
   ],
   "source": [
    "soundtrack_dic.values()"
   ]
  },
  {
   "cell_type": "markdown",
   "id": "da40353b-96b4-473d-875f-ce0124ab1cdc",
   "metadata": {},
   "source": [
    "<strong> Rta/.A partir del método \"values\" es posible conocer los valores del diccionario en su totalidad.</strong>"
   ]
  },
  {
   "cell_type": "markdown",
   "id": "c4a724ca-40ea-4bcb-be19-8b1d5566abd2",
   "metadata": {},
   "source": [
    "<h3>3. Crea un diccionario <code>album_sales_dic</code> donde las llaves sean el nombre del disco y los valores la cantidad de ventas en millones.</h3>"
   ]
  },
  {
   "cell_type": "code",
   "execution_count": 18,
   "id": "b9eea295-4394-4d9d-a5f0-0cc33d9448c4",
   "metadata": {},
   "outputs": [
    {
     "data": {
      "text/plain": [
       "{'Black in Black': 50, 'The Bodyguard': 50, 'Thriller': 65}"
      ]
     },
     "execution_count": 18,
     "metadata": {},
     "output_type": "execute_result"
    }
   ],
   "source": [
    "album_sales_dic = {\"Black in Black\": 50, \"The Bodyguard\": 50, \"Thriller\": 65}\n",
    "album_sales_dic"
   ]
  },
  {
   "cell_type": "markdown",
   "id": "4a56bf28-ee8f-4300-97d3-efa1048ef3bc",
   "metadata": {},
   "source": [
    "<strong> Rta/. A partir del método \"union\", se crea un nuevo conjunto que realiza la operación de unión del conjunto 1 y 2</strong>"
   ]
  },
  {
   "cell_type": "markdown",
   "id": "db1d3654-5079-4580-a11f-375959e0a8bf",
   "metadata": {},
   "source": [
    "<h3>4. Usa el diccionario para encontrar las ventas totales de Thriller: </h3>"
   ]
  },
  {
   "cell_type": "code",
   "execution_count": 19,
   "id": "3b97eca6-1c54-4417-b1f9-2084e74a437e",
   "metadata": {},
   "outputs": [
    {
     "data": {
      "text/plain": [
       "65"
      ]
     },
     "execution_count": 19,
     "metadata": {},
     "output_type": "execute_result"
    }
   ],
   "source": [
    "album_sales_dic[\"Thriller\"]"
   ]
  },
  {
   "cell_type": "markdown",
   "id": "cc4af708-a014-4404-aab4-923fee0faed7",
   "metadata": {},
   "source": [
    "<strong> Rta/. Se puede encontrar las ventas totales (valor) especificando la llave a la que corresponde esa búsqueda, en este caso, se coloca entre corchetes cuadrados el album requerido.</strong>\n"
   ]
  },
  {
   "cell_type": "markdown",
   "id": "6a61f46a-05a0-4f8c-99ae-80d4244d8915",
   "metadata": {},
   "source": [
    "<h3>5. Encuentra los nombres de los discos dentro del diccionario mediante el método <code>keys</code>: </h3>"
   ]
  },
  {
   "cell_type": "code",
   "execution_count": 20,
   "id": "a2ddb639-d297-4df5-ba2b-b78b58f0a5e4",
   "metadata": {},
   "outputs": [
    {
     "data": {
      "text/plain": [
       "dict_keys(['Black in Black', 'The Bodyguard', 'Thriller'])"
      ]
     },
     "execution_count": 20,
     "metadata": {},
     "output_type": "execute_result"
    }
   ],
   "source": [
    "album_sales_dic.keys()"
   ]
  },
  {
   "cell_type": "markdown",
   "id": "47f1207e-f047-4e00-9412-8ec61cfa04c7",
   "metadata": {},
   "source": [
    "<strong> Rta/. A partir del método \"keys\" es posible conocer las llaves del diccionario en su totalidad.</strong>"
   ]
  },
  {
   "cell_type": "markdown",
   "id": "2fd95eb1-3876-4a75-a0a7-7242a3788347",
   "metadata": {},
   "source": [
    "<h3>6. Encuentra los records de ventas dentro del diccionario mediante el método <code>values</code>: </h3>"
   ]
  },
  {
   "cell_type": "code",
   "execution_count": 21,
   "id": "5900387b-4228-4efb-b2fe-a5afc5258038",
   "metadata": {},
   "outputs": [
    {
     "data": {
      "text/plain": [
       "dict_values([50, 50, 65])"
      ]
     },
     "execution_count": 21,
     "metadata": {},
     "output_type": "execute_result"
    }
   ],
   "source": [
    "album_sales_dic.values()"
   ]
  },
  {
   "cell_type": "markdown",
   "id": "ba1f377b-f043-496c-8609-1ed55362b13c",
   "metadata": {},
   "source": [
    "<strong> Rta/.A partir del método \"values\" es posible conocer los valores del diccionario en su totalidad.</strong>"
   ]
  }
 ],
 "metadata": {
  "kernelspec": {
   "display_name": "Python 3 (ipykernel)",
   "language": "python",
   "name": "python3"
  },
  "language_info": {
   "codemirror_mode": {
    "name": "ipython",
    "version": 3
   },
   "file_extension": ".py",
   "mimetype": "text/x-python",
   "name": "python",
   "nbconvert_exporter": "python",
   "pygments_lexer": "ipython3",
   "version": "3.12.4"
  }
 },
 "nbformat": 4,
 "nbformat_minor": 5
}
