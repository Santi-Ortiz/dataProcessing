{
 "cells": [
  {
   "cell_type": "markdown",
   "id": "397450bb-c046-40c1-aa07-13c73e7b13d3",
   "metadata": {},
   "source": [
    "<h1> CONDICIONES EN PYTHON </h1>\n"
   ]
  },
  {
   "cell_type": "markdown",
   "id": "8780b42b-a436-4a70-8e6a-45f964987303",
   "metadata": {},
   "source": [
    " <h3>  <strong> Autor: </strong> Santiago Ortiz Alarcón </h3>\n"
   ]
  },
  {
   "cell_type": "markdown",
   "id": "d45f453b-0e2d-4d1b-a982-4925502f760a",
   "metadata": {},
   "source": [
    "<h3> <strong> Descripción: </strong> Cuaderno #6 relacionado con las condiciones utilizando Python como lenguaje de programación. Se aprenderán conceptos como \n",
    "las operaciones lógicas incluyendo sus operadores y sentencias condicionales. </h3>"
   ]
  },
  {
   "cell_type": "markdown",
   "id": "047861c5-3718-400a-9cea-79a42d2c9975",
   "metadata": {},
   "source": [
    "<h3> <strong> Curso: </strong> Procesamiento de Datos 2430 </h3>"
   ]
  },
  {
   "cell_type": "markdown",
   "id": "f8a20f1a-f7f2-4332-8af1-4cc5313b0817",
   "metadata": {},
   "source": [
    "<h2>SOLUCIÓN EXÁMEN</h2>"
   ]
  },
  {
   "cell_type": "markdown",
   "id": "024edda6-0daa-49d5-8b15-07da6ae2ff8f",
   "metadata": {},
   "source": [
    "<h3>1. Escribe una declaración if que determine si un disco musical tiene una calificación mayor a 8. Compruébalo utilizando el calificación del disco <b>“Back in Black”</b> el cual tiene un valor de 8.5. Si la condición es verdadera, imprime “\"This album is Amazing!\"” </h3>"
   ]
  },
  {
   "cell_type": "code",
   "execution_count": 7,
   "id": "5461db57-f132-40a5-a95c-ac3470b08347",
   "metadata": {},
   "outputs": [
    {
     "name": "stdout",
     "output_type": "stream",
     "text": [
      "This almbum is Amazing!\n"
     ]
    }
   ],
   "source": [
    "back_in_black = 8.5\n",
    "if back_in_black > 8:\n",
    "    print(\"This almbum is Amazing!\")"
   ]
  },
  {
   "cell_type": "markdown",
   "id": "0df1541b-d53c-4580-b0b0-c266f5942b4c",
   "metadata": {},
   "source": [
    "<strong> Rta/. La condición es verdadera ya que el valor del disco musical es mayor a 8, por consiguiente, accederá a la acción de impresión por pantalla</strong>"
   ]
  },
  {
   "cell_type": "markdown",
   "id": "b1272c0f-13d2-4a2f-a1c0-3f7fc03ee55e",
   "metadata": {},
   "source": [
    "<h3>2. Escribe una declaración if-else que determine lo siguiente. Si la calificación es mayor que 8 imprime “this album is amazing”. Si es menor o igual a 8 que imprima “this album is ok”.</h3>"
   ]
  },
  {
   "cell_type": "code",
   "execution_count": 8,
   "id": "78850a54-a50a-44ee-8246-2fa4290d2965",
   "metadata": {},
   "outputs": [
    {
     "name": "stdout",
     "output_type": "stream",
     "text": [
      "This album is Amazing!\n"
     ]
    }
   ],
   "source": [
    "if back_in_black > 8:\n",
    "    print(\"This album is Amazing!\")\n",
    "elif back_in_black <= 8:\n",
    "    print(\"This album is ok\")"
   ]
  },
  {
   "cell_type": "markdown",
   "id": "16ee358f-6d93-4389-b669-f70eaa15c9e4",
   "metadata": {},
   "source": [
    "<strong> Rta/. A partir del método \"keys\" es posible conocer las llaves del diccionario en su totalidad.</strong>"
   ]
  },
  {
   "cell_type": "markdown",
   "id": "bad0f39f-8c5b-404d-b8f6-d93015b8c940",
   "metadata": {},
   "source": [
    "<h3>3. Escribe una declaración if que determine si un disco fue lanzado antes de 1980 o en los años 1991 o 1993. Si la condición es verdadera imprime el año de lanzamiento.</h3>"
   ]
  },
  {
   "cell_type": "code",
   "execution_count": 9,
   "id": "277ba926-f413-4262-b661-c5d818d0ac73",
   "metadata": {},
   "outputs": [
    {
     "name": "stdout",
     "output_type": "stream",
     "text": [
      "1979\n"
     ]
    }
   ],
   "source": [
    "album_released_year = 1979\n",
    "if album_released_year < 1980 or album_released_year == 1991 or album_released_year == 1993:\n",
    "    print(album_released_year)"
   ]
  },
  {
   "cell_type": "markdown",
   "id": "da40353b-96b4-473d-875f-ce0124ab1cdc",
   "metadata": {},
   "source": [
    "<strong> Rta/.Se emplea múltiples condiciones y operadores para validar si el año de lanzamiento coincide con alguna de esas fechas.</strong>"
   ]
  }
 ],
 "metadata": {
  "kernelspec": {
   "display_name": "Python 3 (ipykernel)",
   "language": "python",
   "name": "python3"
  },
  "language_info": {
   "codemirror_mode": {
    "name": "ipython",
    "version": 3
   },
   "file_extension": ".py",
   "mimetype": "text/x-python",
   "name": "python",
   "nbconvert_exporter": "python",
   "pygments_lexer": "ipython3",
   "version": "3.12.4"
  }
 },
 "nbformat": 4,
 "nbformat_minor": 5
}
