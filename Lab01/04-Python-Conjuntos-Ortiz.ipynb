{
 "cells": [
  {
   "cell_type": "markdown",
   "id": "397450bb-c046-40c1-aa07-13c73e7b13d3",
   "metadata": {},
   "source": [
    "<h1> CONJUNTOS EN PYTHON </h1>\n"
   ]
  },
  {
   "cell_type": "markdown",
   "id": "8780b42b-a436-4a70-8e6a-45f964987303",
   "metadata": {},
   "source": [
    " <h3>  <strong> Autor: </strong> Santiago Ortiz Alarcón </h3>\n"
   ]
  },
  {
   "cell_type": "markdown",
   "id": "d45f453b-0e2d-4d1b-a982-4925502f760a",
   "metadata": {},
   "source": [
    "<h3> <strong> Descripción: </strong> Cuaderno #4 sobre operaciones de conjuntos utilizando Python como lenguaje de programación. Se aprenderán conceptos como \n",
    "las operaciones lógicas que puedes hacer con los conjuntos. </h3>"
   ]
  },
  {
   "cell_type": "markdown",
   "id": "047861c5-3718-400a-9cea-79a42d2c9975",
   "metadata": {},
   "source": [
    "<h3> <strong> Curso: </strong> Procesamiento de Datos 2430 </h3>"
   ]
  },
  {
   "cell_type": "markdown",
   "id": "f8a20f1a-f7f2-4332-8af1-4cc5313b0817",
   "metadata": {},
   "source": [
    "<h2>SOLUCIÓN EXÁMEN</h2>"
   ]
  },
  {
   "cell_type": "markdown",
   "id": "b1272c0f-13d2-4a2f-a1c0-3f7fc03ee55e",
   "metadata": {},
   "source": [
    "<h3>1. Transformar la lista <code>['rap','house','electronic music', 'rap']</code> en un conjunto:</h3>"
   ]
  },
  {
   "cell_type": "code",
   "execution_count": 1,
   "id": "78850a54-a50a-44ee-8246-2fa4290d2965",
   "metadata": {},
   "outputs": [
    {
     "data": {
      "text/plain": [
       "['rap', 'house', 'electronic music', 'rap']"
      ]
     },
     "execution_count": 1,
     "metadata": {},
     "output_type": "execute_result"
    }
   ],
   "source": [
    "list = ['rap','house','electronic music', 'rap']\n",
    "list"
   ]
  },
  {
   "cell_type": "code",
   "execution_count": 2,
   "id": "7e5d8725-2fbf-4af3-a38f-92f2d4f1c075",
   "metadata": {},
   "outputs": [
    {
     "data": {
      "text/plain": [
       "{'electronic music', 'house', 'rap'}"
      ]
     },
     "execution_count": 2,
     "metadata": {},
     "output_type": "execute_result"
    }
   ],
   "source": [
    "conjunto = set(list)\n",
    "conjunto"
   ]
  },
  {
   "cell_type": "markdown",
   "id": "16ee358f-6d93-4389-b669-f70eaa15c9e4",
   "metadata": {},
   "source": [
    "<strong> Rta/. A partir del método \"set\" se transforma una lista en conjunto.</strong>"
   ]
  },
  {
   "cell_type": "markdown",
   "id": "bad0f39f-8c5b-404d-b8f6-d93015b8c940",
   "metadata": {},
   "source": [
    "<h3>2. Considera que la lista <code>A = [1, 2, 2, 1]</code> y el conjunto <code>B = set([1, 2, 2, 1])</code> suman <code>sum(A) = sum(B)</code></h3>"
   ]
  },
  {
   "cell_type": "code",
   "execution_count": 3,
   "id": "277ba926-f413-4262-b661-c5d818d0ac73",
   "metadata": {},
   "outputs": [],
   "source": [
    "A = [1, 2, 2, 1]"
   ]
  },
  {
   "cell_type": "code",
   "execution_count": 5,
   "id": "4741d777-8abf-4956-9e24-cc3313504c24",
   "metadata": {},
   "outputs": [],
   "source": [
    "B = set([1, 2, 2, 1])"
   ]
  },
  {
   "cell_type": "code",
   "execution_count": 7,
   "id": "b3f5ca45-c230-4b7b-be51-5e4e1c096720",
   "metadata": {},
   "outputs": [
    {
     "data": {
      "text/plain": [
       "False"
      ]
     },
     "execution_count": 7,
     "metadata": {},
     "output_type": "execute_result"
    }
   ],
   "source": [
    "sum(A) == sum(B)"
   ]
  },
  {
   "cell_type": "markdown",
   "id": "da40353b-96b4-473d-875f-ce0124ab1cdc",
   "metadata": {},
   "source": [
    "<strong> Rta/. La suma de todos los elementos de A y B no son iguales, ya que A es una lista con valores repetidos y B es un conjunto con valores únicos. Esto indica que al momento de sumar los valores de cada estructura, serán diferentes los resultados.</strong>"
   ]
  },
  {
   "cell_type": "markdown",
   "id": "c4a724ca-40ea-4bcb-be19-8b1d5566abd2",
   "metadata": {},
   "source": [
    "<h3>3. Crea un nuevo conjunto <code>album_set3</code> que sea la unión de <code>album_set1</code> y <code>album_set2</code>:</h3>"
   ]
  },
  {
   "cell_type": "code",
   "execution_count": 9,
   "id": "b9eea295-4394-4d9d-a5f0-0cc33d9448c4",
   "metadata": {},
   "outputs": [],
   "source": [
    "album_set1 = set([\"Thriller\", 'AC/DC', 'Back in Black'])\n",
    "album_set2 = set([ \"AC/DC\", \"Back in Black\", \"The Dark Side of the Moon\"])"
   ]
  },
  {
   "cell_type": "code",
   "execution_count": 14,
   "id": "f6f41f11-3e79-41a2-a2d9-16a1868a9139",
   "metadata": {},
   "outputs": [
    {
     "data": {
      "text/plain": [
       "{'AC/DC', 'Back in Black', 'The Dark Side of the Moon', 'Thriller'}"
      ]
     },
     "execution_count": 14,
     "metadata": {},
     "output_type": "execute_result"
    }
   ],
   "source": [
    "album_set3 = album_set1.union(album_set2)\n",
    "album_set3"
   ]
  },
  {
   "cell_type": "markdown",
   "id": "4a56bf28-ee8f-4300-97d3-efa1048ef3bc",
   "metadata": {},
   "source": [
    "<strong> Rta/. A partir del método \"union\", se crea un nuevo conjunto que realiza la operación de unión del conjunto 1 y 2</strong>"
   ]
  },
  {
   "cell_type": "markdown",
   "id": "db1d3654-5079-4580-a11f-375959e0a8bf",
   "metadata": {},
   "source": [
    "<h3>4. Averigua si <code>album_set1</code> es un subconjunto de <code>album_set3</code>: </h3>"
   ]
  },
  {
   "cell_type": "code",
   "execution_count": 15,
   "id": "3b97eca6-1c54-4417-b1f9-2084e74a437e",
   "metadata": {},
   "outputs": [
    {
     "data": {
      "text/plain": [
       "True"
      ]
     },
     "execution_count": 15,
     "metadata": {},
     "output_type": "execute_result"
    }
   ],
   "source": [
    "album_set1.issubset(album_set3)"
   ]
  },
  {
   "cell_type": "markdown",
   "id": "cc4af708-a014-4404-aab4-923fee0faed7",
   "metadata": {},
   "source": [
    "<strong> Rta/. A partir del método \"issubset\", es posible conocer si el conjunto 1 es subconjunto del conjunto 3, dando respuesta que si lo es.</strong>"
   ]
  }
 ],
 "metadata": {
  "kernelspec": {
   "display_name": "Python 3 (ipykernel)",
   "language": "python",
   "name": "python3"
  },
  "language_info": {
   "codemirror_mode": {
    "name": "ipython",
    "version": 3
   },
   "file_extension": ".py",
   "mimetype": "text/x-python",
   "name": "python",
   "nbconvert_exporter": "python",
   "pygments_lexer": "ipython3",
   "version": "3.12.4"
  }
 },
 "nbformat": 4,
 "nbformat_minor": 5
}
