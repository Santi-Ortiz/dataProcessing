{
 "cells": [
  {
   "cell_type": "markdown",
   "id": "397450bb-c046-40c1-aa07-13c73e7b13d3",
   "metadata": {},
   "source": [
    "<h1> BUCLES EN PYTHON </h1>\n"
   ]
  },
  {
   "cell_type": "markdown",
   "id": "8780b42b-a436-4a70-8e6a-45f964987303",
   "metadata": {},
   "source": [
    "<h3>  <strong> Autor: </strong> Santiago Ortiz Alarcón </h3>\n"
   ]
  },
  {
   "cell_type": "markdown",
   "id": "d45f453b-0e2d-4d1b-a982-4925502f760a",
   "metadata": {},
   "source": [
    "<h3> <strong> Descripción: </strong> Cuaderno #7 acerca de los bucles utilizando Python como lenguaje de programación. Se aprenderán conceptos como \n",
    "sentencias de ciclado en Pyhon, incluidos los for y los while </h3>"
   ]
  },
  {
   "cell_type": "markdown",
   "id": "047861c5-3718-400a-9cea-79a42d2c9975",
   "metadata": {},
   "source": [
    "<h3> <strong> Curso: </strong> Procesamiento de Datos 2430 </h3>"
   ]
  },
  {
   "cell_type": "markdown",
   "id": "f8a20f1a-f7f2-4332-8af1-4cc5313b0817",
   "metadata": {},
   "source": [
    "<h2>SOLUCIÓN EXÁMEN</h2>"
   ]
  },
  {
   "cell_type": "markdown",
   "id": "024edda6-0daa-49d5-8b15-07da6ae2ff8f",
   "metadata": {},
   "source": [
    "<h3>1. Escribe un bucle <code>for</code> que imprima todos los elementos entre <b>-5</b> y <b>5</b> usando la función range. </h3>"
   ]
  },
  {
   "cell_type": "code",
   "execution_count": 10,
   "id": "5461db57-f132-40a5-a95c-ac3470b08347",
   "metadata": {},
   "outputs": [
    {
     "name": "stdout",
     "output_type": "stream",
     "text": [
      "-5\n",
      "-4\n",
      "-3\n",
      "-2\n",
      "-1\n",
      "0\n",
      "1\n",
      "2\n",
      "3\n",
      "4\n",
      "5\n"
     ]
    }
   ],
   "source": [
    "for i in range(-5,6):\n",
    "    print(i)"
   ]
  },
  {
   "cell_type": "markdown",
   "id": "f8627afd-71e3-4214-8dee-e84b0dbdc1b0",
   "metadata": {},
   "source": [
    "<strong> Rta/. A partir del método \"range\" se establece el punto inicial y final del recorrido del for</strong>"
   ]
  },
  {
   "cell_type": "markdown",
   "id": "b1272c0f-13d2-4a2f-a1c0-3f7fc03ee55e",
   "metadata": {},
   "source": [
    "<h3>2. Imprime los elementos de la siguiente lista:\n",
    "<code>genres=[ 'rock', 'R&B', 'Soundtrack', 'R&B', 'soul', 'pop']</code>\n",
    "Y asegúrate de seguir las convenciones del lenguaje Python</h3>"
   ]
  },
  {
   "cell_type": "code",
   "execution_count": 11,
   "id": "78850a54-a50a-44ee-8246-2fa4290d2965",
   "metadata": {},
   "outputs": [
    {
     "name": "stdout",
     "output_type": "stream",
     "text": [
      "rock\n",
      "R&B\n",
      "Soundtrack\n",
      "R&B\n",
      "soul\n",
      "pop\n"
     ]
    }
   ],
   "source": [
    "genres=[ 'rock', 'R&B', 'Soundtrack', 'R&B', 'soul', 'pop']\n",
    "\n",
    "for genre in genres:\n",
    "    print(genre)"
   ]
  },
  {
   "cell_type": "markdown",
   "id": "16ee358f-6d93-4389-b669-f70eaa15c9e4",
   "metadata": {},
   "source": [
    "<strong> Rta/. Según la lista inicial se realiza la respectiva impresión de cada uno de sus elementos con el bucle for.</strong>"
   ]
  },
  {
   "cell_type": "markdown",
   "id": "bad0f39f-8c5b-404d-b8f6-d93015b8c940",
   "metadata": {},
   "source": [
    "<h3>3. Escribe un bucle for que imprima la siguiente lista: <code>squares=['red', 'yellow', 'green', 'purple', 'blue']</code></h3>"
   ]
  },
  {
   "cell_type": "code",
   "execution_count": 12,
   "id": "277ba926-f413-4262-b661-c5d818d0ac73",
   "metadata": {},
   "outputs": [
    {
     "name": "stdout",
     "output_type": "stream",
     "text": [
      "red\n",
      "yellow\n",
      "green\n",
      "purple\n",
      "blue\n"
     ]
    }
   ],
   "source": [
    "squares=['red', 'yellow', 'green', 'purple', 'blue']\n",
    "\n",
    "for square in squares:\n",
    "    print(square)"
   ]
  },
  {
   "cell_type": "markdown",
   "id": "da40353b-96b4-473d-875f-ce0124ab1cdc",
   "metadata": {},
   "source": [
    "<strong> Rta/. Según la lista inicial se realiza la respectiva impresión de cada uno de sus elementos con el bucle for.</strong>"
   ]
  },
  {
   "cell_type": "markdown",
   "id": "c4a724ca-40ea-4bcb-be19-8b1d5566abd2",
   "metadata": {},
   "source": [
    "<h3>4. Escribe un bucle while que muestre los valores de la calificación de las canciones de un disco almacenados en la lista <code>PlayListRatings</code>. Si la calificación es menor a 6, sal del bucle. La lista <code>PlayListRatings</code> esta compuesta por: <code>PlayListRatings = [10, 9.5, 10, 8, 7.5, 5, 10, 10]</code></h3>"
   ]
  },
  {
   "cell_type": "code",
   "execution_count": 13,
   "id": "b9eea295-4394-4d9d-a5f0-0cc33d9448c4",
   "metadata": {},
   "outputs": [
    {
     "name": "stdout",
     "output_type": "stream",
     "text": [
      "10\n",
      "9.5\n",
      "10\n",
      "8\n",
      "7.5\n"
     ]
    }
   ],
   "source": [
    "playListRatings = [10, 9.5, 10, 8, 7.5, 5, 10, 10]\n",
    "i = 1\n",
    "rating = playListRatings[0]\n",
    "while(rating >= 6):\n",
    "    print(rating)\n",
    "    rating = playListRatings[i]\n",
    "    i = i + 1"
   ]
  },
  {
   "cell_type": "markdown",
   "id": "4a56bf28-ee8f-4300-97d3-efa1048ef3bc",
   "metadata": {},
   "source": [
    "<strong> Rta/. Dentro del bucle while se revisa por cada iteración si la condición es falsa o verdadera, si es verdadera continua hasta que cambie de estado. Es en ese momento cuando se rompe el ciclo y termina el programa. </strong>"
   ]
  },
  {
   "cell_type": "markdown",
   "id": "db1d3654-5079-4580-a11f-375959e0a8bf",
   "metadata": {},
   "source": [
    "<h3>5. Escribe un bucle while que copie las cadenas <code>'orange'</code> de la lista <code>squares</code> a la lista <code>new_squares</code>. Detente y sal del ciclo si el valor en la lista no es <code>'orange' </h3>"
   ]
  },
  {
   "cell_type": "code",
   "execution_count": 14,
   "id": "756e4a23-4389-4557-ae47-9e9118f97698",
   "metadata": {},
   "outputs": [
    {
     "name": "stdout",
     "output_type": "stream",
     "text": [
      "['orange', 'orange']\n"
     ]
    }
   ],
   "source": [
    "squares = ['orange', 'orange', 'purple', 'blue ', 'orange']\n",
    "new_squares = []\n",
    "\n",
    "i = 0\n",
    "\n",
    "while(squares[i] == 'orange'):\n",
    "    new_squares.append(squares[i])\n",
    "    i = i + 1\n",
    "    \n",
    "print(new_squares)"
   ]
  },
  {
   "cell_type": "markdown",
   "id": "cc4af708-a014-4404-aab4-923fee0faed7",
   "metadata": {},
   "source": [
    "<strong> Rta/. Dentro del bucle while se revisa por cada iteración si la condición es falsa o verdadera, si lo es, entrará al ciclo y ejecutará las correspondientes funciones si no, se detendrá y continuará con el resto del código. </strong>\n"
   ]
  }
 ],
 "metadata": {
  "kernelspec": {
   "display_name": "Python 3 (ipykernel)",
   "language": "python",
   "name": "python3"
  },
  "language_info": {
   "codemirror_mode": {
    "name": "ipython",
    "version": 3
   },
   "file_extension": ".py",
   "mimetype": "text/x-python",
   "name": "python",
   "nbconvert_exporter": "python",
   "pygments_lexer": "ipython3",
   "version": "3.12.4"
  }
 },
 "nbformat": 4,
 "nbformat_minor": 5
}
