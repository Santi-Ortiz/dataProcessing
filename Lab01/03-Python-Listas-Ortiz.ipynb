{
 "cells": [
  {
   "cell_type": "markdown",
   "id": "d164d3f1-1c25-4c06-9a6a-be42f3d22352",
   "metadata": {},
   "source": [
    "<h1> LISTAS EN PYTHON </h1>\n"
   ]
  },
  {
   "cell_type": "markdown",
   "id": "2d11351d-7676-4adb-aa4d-fef8623cac6a",
   "metadata": {},
   "source": [
    " <h3>  <strong> Autor: </strong> Santiago Ortiz Alarcón </h3>\n"
   ]
  },
  {
   "cell_type": "markdown",
   "id": "26c30667-d379-438d-8fd7-d8a07f87b7cd",
   "metadata": {},
   "source": [
    "<h3> <strong> Descripción: </strong> Cuaderno #3 sobre listas utilizando Python como lenguaje de programación. Se aprenderán conceptos como \n",
    "indexación, el copiado y clonación de listas. </h3>"
   ]
  },
  {
   "cell_type": "markdown",
   "id": "9c56fd8d-9e44-4ae0-b3c5-aa210e8a19c8",
   "metadata": {},
   "source": [
    "<h3> <strong> Curso: </strong> Procesamiento de Datos 2430 </h3>"
   ]
  },
  {
   "cell_type": "markdown",
   "id": "8aeee257-cb41-49d9-83af-66653cb6bce7",
   "metadata": {},
   "source": [
    "<h2>SOLUCIÓN EXÁMEN</h2>"
   ]
  },
  {
   "cell_type": "markdown",
   "id": "70841635-3e44-43ed-ade7-c9e48eb5ab5f",
   "metadata": {},
   "source": [
    "<h3>1. Crea una lista <code>a_lit</code> con los siguientes elementos <code>1</code>, <code>hello</code>, <code>[1,2,3]</code> y <code>True</code>.</h3>"
   ]
  },
  {
   "cell_type": "code",
   "execution_count": 4,
   "id": "d3c9b543-c2a8-42d9-9a79-9368d1519278",
   "metadata": {},
   "outputs": [
    {
     "data": {
      "text/plain": [
       "[1, 'hello', [1, 2, 3], True]"
      ]
     },
     "execution_count": 4,
     "metadata": {},
     "output_type": "execute_result"
    }
   ],
   "source": [
    "a_lit = [1, \"hello\", [1,2,3], True]\n",
    "a_lit"
   ]
  },
  {
   "cell_type": "markdown",
   "id": "012eb5e8-08c3-4fbd-a779-02eb76f69732",
   "metadata": {},
   "source": [
    "<h3>2. Encuentra el valor almacenado en el índice 1 de <code>a_list<code>:</h3>"
   ]
  },
  {
   "cell_type": "code",
   "execution_count": 10,
   "id": "ef1cc75b-2ba8-4dc1-b422-d9f2f3443939",
   "metadata": {},
   "outputs": [
    {
     "data": {
      "text/plain": [
       "'hello'"
      ]
     },
     "execution_count": 10,
     "metadata": {},
     "output_type": "execute_result"
    }
   ],
   "source": [
    "a_lit[1]"
   ]
  },
  {
   "cell_type": "markdown",
   "id": "b53a4bb4-86d8-4a73-9382-d152b3655beb",
   "metadata": {},
   "source": [
    "<strong> Rta/. Para encontrar el valor en el índice 1 se utiliza acceso aleatorio dentro de la lista <code>a_lit</code> </strong>"
   ]
  },
  {
   "cell_type": "markdown",
   "id": "b40fc35f-6c23-4a79-a131-b2138d81dd24",
   "metadata": {},
   "source": [
    "<h3>3. Obtén el elemento almacenado en el índice 1, 2 y 3 de <code>a_list</code>.</h3>"
   ]
  },
  {
   "cell_type": "code",
   "execution_count": 13,
   "id": "efaa68b8-df58-4e92-8020-a5008a111080",
   "metadata": {},
   "outputs": [
    {
     "data": {
      "text/plain": [
       "['hello', [1, 2, 3], True]"
      ]
     },
     "execution_count": 13,
     "metadata": {},
     "output_type": "execute_result"
    }
   ],
   "source": [
    "a_lit[1:4]"
   ]
  },
  {
   "cell_type": "markdown",
   "id": "e5643de2-bbb7-44c6-9a36-b4fea44a5a35",
   "metadata": {},
   "source": [
    "<strong> Rta/. Se utiliza slice para obtener los elementos en el índice 1, 2 y 3 </strong>"
   ]
  },
  {
   "cell_type": "markdown",
   "id": "265c51dd-56ad-4639-8f24-11048f7711d2",
   "metadata": {},
   "source": [
    "<h3>4. Concatena las siguientes listas <code>A = [1, 'a']</code> y <code>B = [2, 1, 'd']</code>:</h3>"
   ]
  },
  {
   "cell_type": "code",
   "execution_count": 17,
   "id": "40f680f2-1df4-478b-a4ae-ca5448b8056c",
   "metadata": {},
   "outputs": [
    {
     "data": {
      "text/plain": [
       "[1, 'a', 2, 1, 'd']"
      ]
     },
     "execution_count": 17,
     "metadata": {},
     "output_type": "execute_result"
    }
   ],
   "source": [
    "A = [1, 'a']\n",
    "B = [2, 1, 'd']\n",
    "C = A + B\n",
    "C"
   ]
  },
  {
   "cell_type": "markdown",
   "id": "d5962f18-06e4-4d0c-a415-cae844fa1089",
   "metadata": {},
   "source": [
    "<strong> Rta/. A partir de una nueva lista C se contatenan las listas A y B </strong>"
   ]
  }
 ],
 "metadata": {
  "kernelspec": {
   "display_name": "Python 3 (ipykernel)",
   "language": "python",
   "name": "python3"
  },
  "language_info": {
   "codemirror_mode": {
    "name": "ipython",
    "version": 3
   },
   "file_extension": ".py",
   "mimetype": "text/x-python",
   "name": "python",
   "nbconvert_exporter": "python",
   "pygments_lexer": "ipython3",
   "version": "3.12.4"
  }
 },
 "nbformat": 4,
 "nbformat_minor": 5
}
